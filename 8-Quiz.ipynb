{
 "cells": [
  {
   "cell_type": "code",
   "execution_count": 1,
   "id": "aa169537",
   "metadata": {},
   "outputs": [],
   "source": [
    "# 1) Asagidaki string'in 5. harfini bir degiskene atayiniz"
   ]
  },
  {
   "cell_type": "code",
   "execution_count": 57,
   "id": "c018f05a",
   "metadata": {},
   "outputs": [],
   "source": [
    "my_string = \"Python Ogreniyorum\""
   ]
  },
  {
   "cell_type": "code",
   "execution_count": 59,
   "id": "cbda0da2",
   "metadata": {},
   "outputs": [
    {
     "data": {
      "text/plain": [
       "'o'"
      ]
     },
     "execution_count": 59,
     "metadata": {},
     "output_type": "execute_result"
    }
   ],
   "source": [
    "my_string[4]"
   ]
  },
  {
   "cell_type": "code",
   "execution_count": null,
   "id": "79d0e36f",
   "metadata": {},
   "outputs": [],
   "source": []
  },
  {
   "cell_type": "code",
   "execution_count": null,
   "id": "5f493e10",
   "metadata": {},
   "outputs": [],
   "source": [
    "# 2) Asagidaki String'in 5. ve 8. karakteri arasindaki tum harflerini yazdiriniz (5 ve 8 dahil)"
   ]
  },
  {
   "cell_type": "code",
   "execution_count": 2,
   "id": "0c68a653",
   "metadata": {},
   "outputs": [],
   "source": [
    "my_new_string = \"ProgramlamayaMerhabaDedik\""
   ]
  },
  {
   "cell_type": "code",
   "execution_count": 4,
   "id": "c6e2bd52",
   "metadata": {},
   "outputs": [
    {
     "data": {
      "text/plain": [
       "'raml'"
      ]
     },
     "execution_count": 4,
     "metadata": {},
     "output_type": "execute_result"
    }
   ],
   "source": [
    "my_new_string[4:8:]"
   ]
  },
  {
   "cell_type": "code",
   "execution_count": null,
   "id": "78081f00",
   "metadata": {},
   "outputs": [],
   "source": []
  },
  {
   "cell_type": "code",
   "execution_count": null,
   "id": "06cad65b",
   "metadata": {},
   "outputs": [],
   "source": [
    "# 3) Asagidaki String'i kod ile tersten yazin"
   ]
  },
  {
   "cell_type": "code",
   "execution_count": 8,
   "id": "2e5688ba",
   "metadata": {},
   "outputs": [],
   "source": [
    "my_last_string = \"Afyonkarahisarlilastiramadiklarimizdanmisiniz\""
   ]
  },
  {
   "cell_type": "code",
   "execution_count": 10,
   "id": "9062f83d",
   "metadata": {},
   "outputs": [
    {
     "data": {
      "text/plain": [
       "'zinisimnadzimiralkidamaritsalilrasiharaknoyfA'"
      ]
     },
     "execution_count": 10,
     "metadata": {},
     "output_type": "execute_result"
    }
   ],
   "source": [
    "my_last_string[::-1]"
   ]
  },
  {
   "cell_type": "code",
   "execution_count": null,
   "id": "5dad5132",
   "metadata": {},
   "outputs": [],
   "source": []
  },
  {
   "cell_type": "code",
   "execution_count": null,
   "id": "3b27bb3d",
   "metadata": {},
   "outputs": [],
   "source": [
    "# 4) Asagidaki islemin sonucu hangi veri tipinde olacaktir?"
   ]
  },
  {
   "cell_type": "code",
   "execution_count": 11,
   "id": "7c5b63c1",
   "metadata": {},
   "outputs": [
    {
     "data": {
      "text/plain": [
       "64.2"
      ]
     },
     "execution_count": 11,
     "metadata": {},
     "output_type": "execute_result"
    }
   ],
   "source": [
    "4 + 12.2 + 48"
   ]
  },
  {
   "cell_type": "code",
   "execution_count": null,
   "id": "ea4565d4",
   "metadata": {},
   "outputs": [],
   "source": [
    "# float "
   ]
  },
  {
   "cell_type": "code",
   "execution_count": null,
   "id": "7bffb708",
   "metadata": {},
   "outputs": [],
   "source": []
  },
  {
   "cell_type": "code",
   "execution_count": null,
   "id": "c32a4153",
   "metadata": {},
   "outputs": [],
   "source": [
    "# 5) Asagidaki islemin sonucu kactir?"
   ]
  },
  {
   "cell_type": "code",
   "execution_count": 12,
   "id": "2ff5d05d",
   "metadata": {},
   "outputs": [
    {
     "data": {
      "text/plain": [
       "89"
      ]
     },
     "execution_count": 12,
     "metadata": {},
     "output_type": "execute_result"
    }
   ],
   "source": [
    "5 + 7 * 12"
   ]
  },
  {
   "cell_type": "code",
   "execution_count": null,
   "id": "3f5b6039",
   "metadata": {},
   "outputs": [],
   "source": []
  },
  {
   "cell_type": "code",
   "execution_count": 2,
   "id": "274c19d5",
   "metadata": {},
   "outputs": [],
   "source": [
    "# 6) Bu listeyi en az 2 farkli yoldan olusturunuz: [1,3,\"a\"]"
   ]
  },
  {
   "cell_type": "code",
   "execution_count": 63,
   "id": "625d13fa",
   "metadata": {},
   "outputs": [],
   "source": [
    "list = (1,3, \"a\")"
   ]
  },
  {
   "cell_type": "code",
   "execution_count": 64,
   "id": "64b922fb",
   "metadata": {},
   "outputs": [
    {
     "data": {
      "text/plain": [
       "(1, 3, 'a')"
      ]
     },
     "execution_count": 64,
     "metadata": {},
     "output_type": "execute_result"
    }
   ],
   "source": [
    "list"
   ]
  },
  {
   "cell_type": "code",
   "execution_count": 65,
   "id": "161fea83",
   "metadata": {},
   "outputs": [],
   "source": [
    "dict = (1,3, \"a\")"
   ]
  },
  {
   "cell_type": "code",
   "execution_count": 66,
   "id": "8147a405",
   "metadata": {},
   "outputs": [
    {
     "data": {
      "text/plain": [
       "(1, 3, 'a')"
      ]
     },
     "execution_count": 66,
     "metadata": {},
     "output_type": "execute_result"
    }
   ],
   "source": [
    "dict"
   ]
  },
  {
   "cell_type": "code",
   "execution_count": null,
   "id": "21796430",
   "metadata": {},
   "outputs": [],
   "source": []
  },
  {
   "cell_type": "code",
   "execution_count": null,
   "id": "ed2cc6ca",
   "metadata": {},
   "outputs": [],
   "source": [
    "# 7) Asagidaki \"b\"'yi tek satirda aliniz:"
   ]
  },
  {
   "cell_type": "code",
   "execution_count": 14,
   "id": "aa25769a",
   "metadata": {},
   "outputs": [],
   "source": [
    "my_list = [3.14,4,[2,3,\"b\"],True]"
   ]
  },
  {
   "cell_type": "code",
   "execution_count": 23,
   "id": "7b7e457b",
   "metadata": {},
   "outputs": [
    {
     "data": {
      "text/plain": [
       "'b'"
      ]
     },
     "execution_count": 23,
     "metadata": {},
     "output_type": "execute_result"
    }
   ],
   "source": [
    "my_list[2][2]"
   ]
  },
  {
   "cell_type": "code",
   "execution_count": null,
   "id": "6b86d56a",
   "metadata": {},
   "outputs": [],
   "source": []
  },
  {
   "cell_type": "code",
   "execution_count": null,
   "id": "44e561d5",
   "metadata": {},
   "outputs": [],
   "source": [
    "# 8) Asagidaki \"a\"'yi tek satirda aliniz:"
   ]
  },
  {
   "cell_type": "code",
   "execution_count": 30,
   "id": "cbc64ae3",
   "metadata": {},
   "outputs": [],
   "source": [
    "my_dictionary = {\"key1\":20.25, \"kk2\":[40,{\"k21\":\"a\"}]}"
   ]
  },
  {
   "cell_type": "code",
   "execution_count": 41,
   "id": "eb798d7f",
   "metadata": {},
   "outputs": [
    {
     "data": {
      "text/plain": [
       "'a'"
      ]
     },
     "execution_count": 41,
     "metadata": {},
     "output_type": "execute_result"
    }
   ],
   "source": [
    "my_dictionary[\"kk2\"][1][\"k21\"]"
   ]
  },
  {
   "cell_type": "code",
   "execution_count": null,
   "id": "890b52c5",
   "metadata": {},
   "outputs": [],
   "source": []
  },
  {
   "cell_type": "code",
   "execution_count": null,
   "id": "7f545af9",
   "metadata": {},
   "outputs": [],
   "source": [
    "# 9) Asagidaki liste set'e cevirilince hangi degerler icinde kalacaktir?"
   ]
  },
  {
   "cell_type": "code",
   "execution_count": 43,
   "id": "237f521b",
   "metadata": {},
   "outputs": [],
   "source": [
    "my_list_to_be_set = [3,4,9,3,21,22,4,3,9,10,21,22]"
   ]
  },
  {
   "cell_type": "code",
   "execution_count": 44,
   "id": "bc5ecd8e",
   "metadata": {},
   "outputs": [],
   "source": [
    "mySet = set(my_list_to_be_set)"
   ]
  },
  {
   "cell_type": "code",
   "execution_count": 45,
   "id": "eb5b63d0",
   "metadata": {},
   "outputs": [
    {
     "data": {
      "text/plain": [
       "{3, 4, 9, 10, 21, 22}"
      ]
     },
     "execution_count": 45,
     "metadata": {},
     "output_type": "execute_result"
    }
   ],
   "source": [
    "mySet"
   ]
  },
  {
   "cell_type": "code",
   "execution_count": null,
   "id": "8d4fe4c6",
   "metadata": {},
   "outputs": [],
   "source": [
    "# 10) Asagidaki ifadenin sonucu ne olacaktir?"
   ]
  },
  {
   "cell_type": "code",
   "execution_count": 47,
   "id": "11ef18e3",
   "metadata": {},
   "outputs": [],
   "source": [
    "x = 30 * 5 + 3"
   ]
  },
  {
   "cell_type": "code",
   "execution_count": 48,
   "id": "48165678",
   "metadata": {},
   "outputs": [],
   "source": [
    "y = 108 - 2 * 4"
   ]
  },
  {
   "cell_type": "code",
   "execution_count": 49,
   "id": "27f4ccf0",
   "metadata": {},
   "outputs": [
    {
     "data": {
      "text/plain": [
       "True"
      ]
     },
     "execution_count": 49,
     "metadata": {},
     "output_type": "execute_result"
    }
   ],
   "source": [
    "x > y"
   ]
  },
  {
   "cell_type": "code",
   "execution_count": 50,
   "id": "0d6175b0",
   "metadata": {},
   "outputs": [
    {
     "data": {
      "text/plain": [
       "253"
      ]
     },
     "execution_count": 50,
     "metadata": {},
     "output_type": "execute_result"
    }
   ],
   "source": [
    "x + y"
   ]
  },
  {
   "cell_type": "code",
   "execution_count": null,
   "id": "b1464eef",
   "metadata": {},
   "outputs": [],
   "source": []
  },
  {
   "cell_type": "code",
   "execution_count": null,
   "id": "db33d584",
   "metadata": {},
   "outputs": [],
   "source": []
  },
  {
   "cell_type": "code",
   "execution_count": null,
   "id": "343dc6b8",
   "metadata": {},
   "outputs": [],
   "source": []
  }
 ],
 "metadata": {
  "kernelspec": {
   "display_name": "Python 3 (ipykernel)",
   "language": "python",
   "name": "python3"
  },
  "language_info": {
   "codemirror_mode": {
    "name": "ipython",
    "version": 3
   },
   "file_extension": ".py",
   "mimetype": "text/x-python",
   "name": "python",
   "nbconvert_exporter": "python",
   "pygments_lexer": "ipython3",
   "version": "3.11.5"
  }
 },
 "nbformat": 4,
 "nbformat_minor": 5
}
